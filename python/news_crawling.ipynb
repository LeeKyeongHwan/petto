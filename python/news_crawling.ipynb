{
 "cells": [
  {
   "cell_type": "code",
   "execution_count": 1,
   "id": "8694749b",
   "metadata": {},
   "outputs": [],
   "source": [
    "from flask import Flask, url_for, request, jsonify, redirect, Response\n",
    "from flask_cors import CORS, cross_origin\n",
    "\n",
    "import json\n",
    "\n",
    "import selenium\n",
    "from selenium import webdriver\n",
    "\n",
    "from selenium.webdriver.common.keys import Keys"
   ]
  },
  {
   "cell_type": "code",
   "execution_count": 2,
   "id": "3ef6bc7a",
   "metadata": {},
   "outputs": [
    {
     "name": "stdout",
     "output_type": "stream",
     "text": [
      " * Serving Flask app \"__main__\" (lazy loading)\n",
      " * Environment: production\n",
      "   WARNING: This is a development server. Do not use it in a production deployment.\n",
      "   Use a production WSGI server instead.\n",
      " * Debug mode: off\n"
     ]
    },
    {
     "name": "stderr",
     "output_type": "stream",
     "text": [
      " * Running on http://127.0.0.1:5000/ (Press CTRL+C to quit)\n",
      "127.0.0.1 - - [02/Dec/2021 16:31:51] \"\u001b[33mPOST /pawinhandCrawling HTTP/1.1\u001b[0m\" 404 -\n",
      "127.0.0.1 - - [02/Dec/2021 16:31:56] \"\u001b[37mPOST /pythonCrawlNews HTTP/1.1\u001b[0m\" 200 -\n"
     ]
    },
    {
     "name": "stdout",
     "output_type": "stream",
     "text": [
      "['http://www.sisajournal.com/news/articleView.html?idxno=228658', 'http://www.seouland.com/arti/society/society_general/8988.html', 'http://www.fnnews.com/news/202111281105080972', 'https://tjmbc.co.kr/article/jPghrZ_Gev_M', 'http://news.kmib.co.kr/article/view.asp?arcid=0016513513&code=61122022&cp=nv', 'http://www.seoulfn.com/news/articleView.html?idxno=439237', 'https://www.pressian.com/pages/articles/2021112610012208124?utm_source=naver&utm_medium=search', 'http://www.dailyvet.co.kr/news/interview/156770', 'https://www.pressian.com/pages/articles/2021112409495549279?utm_source=naver&utm_medium=search', 'https://hankookilbo.com/News/Read/A2021112308580001147?did=NA']\n",
      "\n",
      "[\"유기동물 보호소 표방한 '신종 펫숍' 주의보 [따듯한 동물사전]\", '서울, 반려동물과 사람 모두 행복한 동행 도시', '갤러리아百, 유기동물 보호 메시지 담은 쇼핑백 제작', '대전시·하나은행·적십자사, 유기동물 입양 협력', '경주시 버림받는 반려동물 보호 앞장…동물보호센터 준공', '갤러리아백화점, 유기동물 보호 주제 쇼핑백 제작', '버려지는 동물로 돈벌이...세금도 부정하게 수급했다', '[수의학 A to Z] 동물의 죽음과 동물복지 [V：3부]', '앞발 잘린 고양이도...이것은 방사인가, 유기인가', '\"18년째 보호소 운영\" 동물 위해 나선 스타들']\n"
     ]
    }
   ],
   "source": [
    "app = Flask(__name__)\n",
    "CORS(app)\n",
    "\n",
    "@app.route('/pythonCrawlNews', methods = ['GET', 'POST'])\n",
    "def pythonCrawlNews():\n",
    "\n",
    "    url = \"https://search.naver.com/search.naver?where=news&sm=tab_jum&query=\"\n",
    "\n",
    "    options = webdriver.ChromeOptions()\n",
    "    options.add_argument('--headless')\n",
    "    options.add_argument('--window-size=1024,768')\n",
    "    options.add_argument('--disable-gpu')\n",
    "\n",
    "    text = '유기동물+안락사'\n",
    "\n",
    "    driver = webdriver.Chrome(r\"C:\\chromedriver.exe\", options = options)\n",
    "\n",
    "    search_url = url + text\n",
    "    driver.get(url = search_url)\n",
    "\n",
    "    allContents = driver.find_elements_by_css_selector(\n",
    "        \"#main_pack > section.sc_new.sp_nnews._prs_nws > div > div.group_news > ul > li > div.news_wrap.api_ani_send > div > a\"\n",
    "    )\n",
    "\n",
    "    hrefURL = []\n",
    "    titleName = []\n",
    "\n",
    "    for item in allContents:\n",
    "        if (item != ''):\n",
    "            hrefURL.append(item.get_attribute('href'))\n",
    "            titleName.append(item.get_attribute('title'))\n",
    "\n",
    "    print(hrefURL)\n",
    "    print()\n",
    "    print(titleName)\n",
    "    driver.close()\n",
    "    \n",
    "    return jsonify(titleName, hrefURL)\n",
    "\n",
    "if __name__ == \"__main__\":\n",
    "    app.run()"
   ]
  },
  {
   "cell_type": "code",
   "execution_count": null,
   "id": "ad988df0",
   "metadata": {},
   "outputs": [],
   "source": []
  }
 ],
 "metadata": {
  "kernelspec": {
   "display_name": "Python 3",
   "language": "python",
   "name": "python3"
  },
  "language_info": {
   "codemirror_mode": {
    "name": "ipython",
    "version": 3
   },
   "file_extension": ".py",
   "mimetype": "text/x-python",
   "name": "python",
   "nbconvert_exporter": "python",
   "pygments_lexer": "ipython3",
   "version": "3.8.8"
  }
 },
 "nbformat": 4,
 "nbformat_minor": 5
}
