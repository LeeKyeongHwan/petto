{
 "cells": [
  {
   "cell_type": "code",
   "execution_count": null,
   "id": "8694749b",
   "metadata": {},
   "outputs": [],
   "source": [
    "from flask import Flask, url_for, request, jsonify, redirect, Response\n",
    "from flask_cors import CORS, cross_origin\n",
    "\n",
    "import json\n",
    "\n",
    "import selenium\n",
    "from selenium import webdriver\n",
    "\n",
    "from selenium.webdriver.common.keys import Keys"
   ]
  },
  {
   "cell_type": "code",
   "execution_count": null,
   "id": "3ef6bc7a",
   "metadata": {},
   "outputs": [],
   "source": [
    "app = Flask(__name__)\n",
    "CORS(app)\n",
    "\n",
    "@app.route('/pythonCrawlNews', methods = ['GET', 'POST'])\n",
    "def pythonCrawlNews():\n",
    "\n",
    "    url = \"https://search.naver.com/search.naver?where=news&sm=tab_jum&query=\"\n",
    "\n",
    "    options = webdriver.ChromeOptions()\n",
    "    options.add_argument('--headless')\n",
    "    options.add_argument('--window-size=1024,768')\n",
    "    options.add_argument('--disable-gpu')\n",
    "\n",
    "    text = '유기동물+안락사'\n",
    "\n",
    "    driver = webdriver.Chrome(r\"C:\\chromedriver.exe\", options = options)\n",
    "\n",
    "    search_url = url + text\n",
    "    driver.get(url = search_url)\n",
    "\n",
    "    allContents = driver.find_elements_by_css_selector(\n",
    "        \"#main_pack > section.sc_new.sp_nnews._prs_nws > div > div.group_news > ul > li > div.news_wrap.api_ani_send > div > a\"\n",
    "    )\n",
    "\n",
    "    hrefURL = []\n",
    "    titleName = []\n",
    "\n",
    "    for item in allContents:\n",
    "        if (item != ''):\n",
    "            hrefURL.append(item.get_attribute('href'))\n",
    "            titleName.append(item.get_attribute('title'))\n",
    "\n",
    "    print(hrefURL)\n",
    "    print()\n",
    "    print(titleName)\n",
    "    driver.close()\n",
    "    \n",
    "    return jsonify(titleName, hrefURL)\n",
    "\n",
    "if __name__ == \"__main__\":\n",
    "    app.run()"
   ]
  }
 ],
 "metadata": {
  "kernelspec": {
   "display_name": "Python 3",
   "language": "python",
   "name": "python3"
  },
  "language_info": {
   "codemirror_mode": {
    "name": "ipython",
    "version": 3
   },
   "file_extension": ".py",
   "mimetype": "text/x-python",
   "name": "python",
   "nbconvert_exporter": "python",
   "pygments_lexer": "ipython3",
   "version": "3.8.8"
  }
 },
 "nbformat": 4,
 "nbformat_minor": 5
}
