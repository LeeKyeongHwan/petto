{
 "cells": [
  {
   "cell_type": "code",
   "execution_count": 1,
   "id": "2163aa4f",
   "metadata": {},
   "outputs": [],
   "source": [
    "from flask import Flask, url_for, request, jsonify, redirect, Response\n",
    "from flask_cors import CORS, cross_origin\n",
    "\n",
    "import json\n",
    "import requests\n",
    "\n",
    "import selenium\n",
    "from selenium import webdriver"
   ]
  },
  {
   "cell_type": "code",
   "execution_count": null,
   "id": "788c9f34",
   "metadata": {
    "scrolled": true
   },
   "outputs": [
    {
     "name": "stdout",
     "output_type": "stream",
     "text": [
      " * Serving Flask app \"__main__\" (lazy loading)\n",
      " * Environment: production\n",
      "   WARNING: This is a development server. Do not use it in a production deployment.\n",
      "   Use a production WSGI server instead.\n",
      " * Debug mode: off\n"
     ]
    },
    {
     "name": "stderr",
     "output_type": "stream",
     "text": [
      " * Running on http://127.0.0.1:5000/ (Press CTRL+C to quit)\n"
     ]
    },
    {
     "name": "stdout",
     "output_type": "stream",
     "text": [
      "오늘 구조된 동물\n",
      "0\n",
      "마리\n",
      "입양률\n",
      "31\n",
      "%\n",
      "안락사율\n",
      "15\n",
      "%\n"
     ]
    },
    {
     "name": "stderr",
     "output_type": "stream",
     "text": [
      "127.0.0.1 - - [04/Dec/2021 23:34:40] \"\u001b[37mPOST /pawinhandCrawling HTTP/1.1\u001b[0m\" 200 -\n",
      "127.0.0.1 - - [04/Dec/2021 23:36:05] \"\u001b[33mPOST /pythonCrawlNews HTTP/1.1\u001b[0m\" 404 -\n",
      "127.0.0.1 - - [04/Dec/2021 23:36:17] \"\u001b[37mPOST /pawinhandCrawling HTTP/1.1\u001b[0m\" 200 -\n"
     ]
    },
    {
     "name": "stdout",
     "output_type": "stream",
     "text": [
      "오늘 구조된 동물\n",
      "0\n",
      "마리\n",
      "입양률\n",
      "31\n",
      "%\n",
      "안락사율\n",
      "15\n",
      "%\n"
     ]
    },
    {
     "name": "stderr",
     "output_type": "stream",
     "text": [
      "127.0.0.1 - - [04/Dec/2021 23:36:41] \"\u001b[33mPOST /pythonCrawlNews HTTP/1.1\u001b[0m\" 404 -\n",
      "127.0.0.1 - - [04/Dec/2021 23:36:51] \"\u001b[37mPOST /pawinhandCrawling HTTP/1.1\u001b[0m\" 200 -\n"
     ]
    },
    {
     "name": "stdout",
     "output_type": "stream",
     "text": [
      "오늘 구조된 동물\n",
      "0\n",
      "마리\n",
      "입양률\n",
      "31\n",
      "%\n",
      "안락사율\n",
      "15\n",
      "%\n"
     ]
    }
   ],
   "source": [
    "app = Flask(__name__)\n",
    "CORS(app)\n",
    "\n",
    "@app.route('/pawinhandCrawling', methods = ['GET', 'POST'])\n",
    "def pawinhandCrawling():\n",
    "    \n",
    "    url = \"http://pawinhand.kr/main/index.php\"\n",
    "    \n",
    "    options = webdriver.ChromeOptions()\n",
    "    options.add_argument('--headless')\n",
    "    options.add_argument('--window-size=1024,768')\n",
    "    options.add_argument('--disable-gpu')\n",
    "\n",
    "    driver = webdriver.Chrome(r\"C:\\chromedriver.exe\", options = options)\n",
    "    driver.get(url = url)\n",
    "\n",
    "    info = driver.find_elements_by_css_selector(\".pawinhandInfo\")\n",
    "   \n",
    "    \n",
    "    for i in info:\n",
    "        crawling = i.text\n",
    "    \n",
    "    print(crawling)\n",
    "    \n",
    "    driver.close()\n",
    "\n",
    "    return jsonify(crawling)\n",
    "\n",
    "if __name__ == \"__main__\":\n",
    "    app.run()"
   ]
  },
  {
   "cell_type": "code",
   "execution_count": null,
   "id": "05b4cc03",
   "metadata": {},
   "outputs": [],
   "source": []
  }
 ],
 "metadata": {
  "kernelspec": {
   "display_name": "Python 3",
   "language": "python",
   "name": "python3"
  },
  "language_info": {
   "codemirror_mode": {
    "name": "ipython",
    "version": 3
   },
   "file_extension": ".py",
   "mimetype": "text/x-python",
   "name": "python",
   "nbconvert_exporter": "python",
   "pygments_lexer": "ipython3",
   "version": "3.8.8"
  }
 },
 "nbformat": 4,
 "nbformat_minor": 5
}
